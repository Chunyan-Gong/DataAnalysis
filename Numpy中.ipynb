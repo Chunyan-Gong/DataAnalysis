{
 "cells": [
  {
   "cell_type": "code",
   "execution_count": 2,
   "metadata": {},
   "outputs": [
    {
     "name": "stdout",
     "output_type": "stream",
     "text": [
      "arr abs:\n",
      " [10  9  8  7  6  5  4  3  2  1]\n",
      "arr sqrt:\n",
      " [0.         1.         1.41421356 1.73205081 2.         2.23606798\n",
      " 2.44948974 2.64575131 2.82842712 3.        ]\n",
      "arr square:\n",
      " [100  81  64  49  36  25  16   9   4   1]\n",
      "arr exp:\n",
      " [1.00000000e+00 2.71828183e+00 7.38905610e+00 2.00855369e+01\n",
      " 5.45981500e+01 1.48413159e+02 4.03428793e+02 1.09663316e+03\n",
      " 2.98095799e+03 8.10308393e+03]\n",
      "arr log:\n",
      " [0. 1. 2. 3. 4. 5. 6. 7. 8. 9.]\n",
      "arr sign:\n",
      " [-1 -1 -1 -1 -1  0  1  1  1  1]\n",
      "arr ceil:\n",
      " [-9. -8. -7. -6. -5. -4. -3. -2. -1. -0.]\n",
      "arr floor:\n",
      " [-10.  -9.  -8.  -7.  -6.  -5.  -4.  -3.  -2.  -1.]\n",
      "arr rint:\n",
      " [-10.  -9.  -8.  -7.  -6.  -5.  -4.  -3.  -2.  -1.]\n",
      "arr modf:\n",
      " (array([-0.7, -0.7, -0.7, -0.7, -0.7, -0.7, -0.7, -0.7, -0.7, -0.7]), array([-9., -8., -7., -6., -5., -4., -3., -2., -1., -0.]))\n"
     ]
    }
   ],
   "source": [
    "#1. 创建numpy数据\n",
    "\n",
    "import numpy as np\n",
    "#1.1一元函数，对一个数组操作\n",
    "arr= np.arange(10)-10\n",
    "#np.abs()\n",
    "print('arr abs:\\n',np.abs(arr))\n",
    "#np.sqrt()\n",
    "print('arr sqrt:\\n',np.sqrt(arr+10))#平方根\n",
    "#np.square()\n",
    "print('arr square:\\n',np.square(arr))#平方\n",
    "#np.exp()\n",
    "print('arr exp:\\n',np.exp(arr+10)) #不能对负数取对数\n",
    "#np.log\n",
    "print('arr log:\\n',np.log(np.exp(arr+10))) #log对应的底是e，log10对应的底是10\n",
    "#np.sign():\n",
    "print('arr sign:\\n',np.sign(arr+5)) #计算正负号\n",
    "#np.ceil()\n",
    "print('arr ceil:\\n',np.ceil(arr+0.3)) #大于等于改值的最小整数\n",
    "#np.floor()\n",
    "print('arr floor:\\n',np.floor(arr+0.3))\n",
    "#np.rint() \n",
    "print('arr rint:\\n',np.rint(arr+0.3)) #四舍五入取整\n",
    "#np.modf()\n",
    "print('arr modf:\\n',np.modf(arr+0.3)) #小数和整数分为两个部分返回"
   ]
  },
  {
   "cell_type": "code",
   "execution_count": 4,
   "metadata": {},
   "outputs": [
    {
     "name": "stdout",
     "output_type": "stream",
     "text": [
      "arr with Nan:\n",
      " [nan -9. nan -7. nan -5. -4. -3. -2. inf]\n",
      "arr nan:\n",
      " [ True False  True False  True False False False False False]\n",
      "arr inf:\n",
      " [False False False False False False False False False  True]\n"
     ]
    }
   ],
   "source": [
    "#无限大\n",
    "#布尔值不能有无限大，要转化为浮点值，astype()\n",
    "arr= np.arange(10)-10\n",
    "arr_float = arr.astype(np.float)\n",
    "arr_float[[0,2,4]]=np.NaN\n",
    "arr_float[-1] = np.Inf\n",
    "print('arr with Nan:\\n',arr_float)\n",
    "#np.isnan\n",
    "print('arr nan:\\n',np.isnan(arr_float))#判断是否为nan\n",
    "#np.isinf()\n",
    "print('arr inf:\\n',np.isinf(arr_float)) #判断是否为无穷大"
   ]
  },
  {
   "cell_type": "code",
   "execution_count": 5,
   "metadata": {},
   "outputs": [
    {
     "name": "stdout",
     "output_type": "stream",
     "text": [
      "x:\n",
      " [ 1.50015362  0.90021466 -0.12833181  0.14419175 -0.83006986 -0.01640401\n",
      " -1.64170973  0.53972162  0.93631607  1.52368145]\n",
      "y:\n",
      " [ 0.30950288 -0.81041699  1.71267891  0.91978662 -1.1629078  -0.65013984\n",
      "  0.0291564  -0.42276933  1.29266881 -0.79277399]\n",
      "add:\n",
      " [ 1.8096565   0.08979766  1.5843471   1.06397837 -1.99297767 -0.66654385\n",
      " -1.61255333  0.1169523   2.22898488  0.73090746]\n",
      "subtract:\n",
      " [ 1.19065075  1.71063165 -1.84101072 -0.77559487  0.33283794  0.63373583\n",
      " -1.67086613  0.96249095 -0.35635274  2.31645544]\n",
      "multiply:\n",
      " [ 0.46430186 -0.72954925 -0.21979119  0.13262564  0.96529472  0.0106649\n",
      " -0.04786635 -0.22817775  1.21034658 -1.20793502]\n",
      "divide:\n",
      " [ 4.84697796e+00 -1.11080427e+00 -7.49304574e-02  1.56766525e-01\n",
      "  7.13788196e-01  2.52315119e-02 -5.63070043e+01 -1.27663383e+00\n",
      "  7.24327889e-01 -1.92196197e+00]\n",
      "power:\n",
      " [ 1.13374273  1.08892687  0.02970729  0.16842426  1.24183018 14.4721177\n",
      "  1.01455891  1.29786758  0.91845679  0.71615372]\n"
     ]
    }
   ],
   "source": [
    "#2.二元函数，对两个数组作用\n",
    "#创建两个随机数组\n",
    "x=np.random.randn(10)\n",
    "y=np.random.randn(10)\n",
    "print('x:\\n',x)\n",
    "print('y:\\n',y)\n",
    "#np.add()\n",
    "print('add:\\n',np.add(x,y))\n",
    "#np.subtract()\n",
    "print('subtract:\\n',np.subtract(x,y))\n",
    "#np.multiply()\n",
    "print('multiply:\\n',np.multiply(x,y))\n",
    "#np.divide()\n",
    "print('divide:\\n',np.divide(x,y))\n",
    "#np.power() #避免无法计算要对x取绝对值\n",
    "print('power:\\n',np.power(np.abs(x),y))\n",
    "#np.maxium()\n",
    "#np.min()\n",
    "#np.mod()求模\n",
    "#np.copysign() \n",
    "#np.greater()\n",
    "#np.less()\\\n",
    "#np.logical_and()"
   ]
  },
  {
   "cell_type": "code",
   "execution_count": null,
   "metadata": {},
   "outputs": [],
   "source": [
    "#3. 统计\n",
    "data_arr = np.random.randn(20)\n",
    "print('data_arr:\\n',data_arr)\n",
    "#data.sum()\n",
    "#data.mean()\n",
    "#data.std()\n",
    "#data.var()\n",
    "#data.max()\n",
    "#data.min()\n",
    "#data.argmin()\n",
    "#data.argmax()\n",
    "#data.cumsum()\n",
    "#data.cumprod()"
   ]
  },
  {
   "cell_type": "code",
   "execution_count": null,
   "metadata": {},
   "outputs": [],
   "source": [
    "#4.集合"
   ]
  },
  {
   "cell_type": "code",
   "execution_count": null,
   "metadata": {},
   "outputs": [],
   "source": [
    "#5. 随机函数"
   ]
  }
 ],
 "metadata": {
  "kernelspec": {
   "display_name": "Python 3.6",
   "language": "python",
   "name": "python36"
  },
  "language_info": {
   "codemirror_mode": {
    "name": "ipython",
    "version": 3
   },
   "file_extension": ".py",
   "mimetype": "text/x-python",
   "name": "python",
   "nbconvert_exporter": "python",
   "pygments_lexer": "ipython3",
   "version": "3.6.6"
  }
 },
 "nbformat": 4,
 "nbformat_minor": 2
}
