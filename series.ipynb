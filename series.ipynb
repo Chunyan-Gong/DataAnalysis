{
 "cells": [
  {
   "cell_type": "code",
   "execution_count": 2,
   "metadata": {},
   "outputs": [
    {
     "name": "stdout",
     "output_type": "stream",
     "text": [
      "0    1.0\n",
      "1   -3.0\n",
      "2    5.0\n",
      "3   -7.0\n",
      "dtype: float64\n",
      "<class 'pandas.core.series.Series'>\n"
     ]
    }
   ],
   "source": [
    "import pandas as pd\n",
    "from pandas import Series #Series要大写\n",
    "import numpy as np\n",
    "obj_series = Series([1,-3,5,-7.])\n",
    "print(obj_series)\n",
    "print(type(obj_series))"
   ]
  },
  {
   "cell_type": "code",
   "execution_count": 11,
   "metadata": {},
   "outputs": [
    {
     "data": {
      "text/plain": [
       "0    1.0\n",
       "2    5.0\n",
       "dtype: float64"
      ]
     },
     "execution_count": 11,
     "metadata": {},
     "output_type": "execute_result"
    }
   ],
   "source": [
    "#打印出Series的值\n",
    "obj_series.values\n",
    "#打印出Series全部索引\n",
    "obj_series.index\n",
    "#返回某个特定index的值\n",
    "obj_series[2]\n",
    "#返回某个范围的值，就像对列表进行切片一样\n",
    "obj_series[2:]\n",
    "#对Series中的值进行布尔判断\n",
    "obj_series>0\n",
    "#返回大于0的值，直接用条件判断\n",
    "obj_series[obj_series>0]"
   ]
  },
  {
   "cell_type": "code",
   "execution_count": null,
   "metadata": {},
   "outputs": [],
   "source": [
    "#自定义index\n",
    "obj_series_index = Series([1,-3,5,-7],index=['a','b','c','d'])\n",
    "print(obj_series_index)\n",
    "obj_series_index['b']"
   ]
  },
  {
   "cell_type": "code",
   "execution_count": 13,
   "metadata": {},
   "outputs": [
    {
     "data": {
      "text/plain": [
       "a    1112\n",
       "b    1108\n",
       "c    1116\n",
       "d    1104\n",
       "dtype: int64"
      ]
     },
     "execution_count": 13,
     "metadata": {},
     "output_type": "execute_result"
    }
   ],
   "source": [
    "#算数\n",
    "#乘法\n",
    "obj_series*5\n",
    "#加法\n",
    "obj_series_index+1111"
   ]
  },
  {
   "cell_type": "code",
   "execution_count": 20,
   "metadata": {},
   "outputs": [
    {
     "name": "stdout",
     "output_type": "stream",
     "text": [
      "beijing      20000\n",
      "guangzhou    12000\n",
      "shanghai     18000\n",
      "shenzhen     18000\n",
      "dtype: int64\n"
     ]
    },
    {
     "data": {
      "text/plain": [
       "True"
      ]
     },
     "execution_count": 20,
     "metadata": {},
     "output_type": "execute_result"
    }
   ],
   "source": [
    "#用字典创建Series\n",
    "salary = {'beijing':20000,'shenzhen':18000,'shanghai':18000,'guangzhou':12000}\n",
    "salary_series = Series(salary)\n",
    "print(salary_series)\n",
    "#用in查询Series中的值是否存在\n",
    "'shanghai' in salary_series"
   ]
  },
  {
   "cell_type": "code",
   "execution_count": 24,
   "metadata": {},
   "outputs": [
    {
     "name": "stdout",
     "output_type": "stream",
     "text": [
      "beijing      20000.0\n",
      "shenzhen     18000.0\n",
      "shanghai     18000.0\n",
      "guangzhou    12000.0\n",
      "hangzhou         NaN\n",
      "dtype: float64\n",
      "guangzhou    12000.0\n",
      "shenzhen     18000.0\n",
      "shanghai     18000.0\n",
      "beijing      20000.0\n",
      "hangzhou         NaN\n",
      "dtype: float64\n"
     ]
    }
   ],
   "source": [
    "#如何加入一个新的城市？\n",
    "#创建一个新的城市标签\n",
    "new_city_label =['beijing','shenzhen','shanghai','guangzhou','hangzhou']\n",
    "new_salary_series = Series(salary_series,index = new_city_label)\n",
    "print(new_salary_series)\n",
    "#新的标签改变了位置的话，原始数据也会自动改变\n",
    "new_city_label2=['guangzhou','shenzhen','shanghai','beijing','hangzhou']\n",
    "new_salary_series2 = Series(salary_series,index = new_city_label2)\n",
    "print(new_salary_series2)"
   ]
  },
  {
   "cell_type": "code",
   "execution_count": 25,
   "metadata": {},
   "outputs": [
    {
     "data": {
      "text/plain": [
       "beijing       True\n",
       "shenzhen      True\n",
       "shanghai      True\n",
       "guangzhou     True\n",
       "hangzhou     False\n",
       "dtype: bool"
      ]
     },
     "execution_count": 25,
     "metadata": {},
     "output_type": "execute_result"
    }
   ],
   "source": [
    "#判断Series中的值是否为空值\n",
    "pd.isnull(new_salary_series)\n",
    "pd.notnull(new_salary_series)"
   ]
  },
  {
   "cell_type": "code",
   "execution_count": 28,
   "metadata": {},
   "outputs": [
    {
     "name": "stdout",
     "output_type": "stream",
     "text": [
      "city\n",
      "beijing      20000.0\n",
      "shenzhen     18000.0\n",
      "shanghai     18000.0\n",
      "guangzhou    12000.0\n",
      "hangzhou         NaN\n",
      "Name: salary, dtype: float64\n"
     ]
    }
   ],
   "source": [
    "#命名\n",
    "new_salary_series.name = 'salary'  #给整个Series命名，即这个Series里面的值代表的是什么，这里是工资\n",
    "new_salary_series.index.name = 'city' #给index命名\n",
    "print(new_salary_series)"
   ]
  },
  {
   "cell_type": "code",
   "execution_count": null,
   "metadata": {},
   "outputs": [],
   "source": []
  }
 ],
 "metadata": {
  "kernelspec": {
   "display_name": "Python 3.6",
   "language": "python",
   "name": "python36"
  },
  "language_info": {
   "codemirror_mode": {
    "name": "ipython",
    "version": 3
   },
   "file_extension": ".py",
   "mimetype": "text/x-python",
   "name": "python",
   "nbconvert_exporter": "python",
   "pygments_lexer": "ipython3",
   "version": "3.6.6"
  }
 },
 "nbformat": 4,
 "nbformat_minor": 2
}
