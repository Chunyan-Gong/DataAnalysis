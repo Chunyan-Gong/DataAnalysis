{
 "cells": [
  {
   "cell_type": "code",
   "execution_count": null,
   "metadata": {
    "collapsed": true
   },
   "outputs": [],
   "source": [
    "#复合切片\n",
    "#算数运算\n",
    "#函数应用\n",
    "#排名\n",
    "#重复索引"
   ]
  },
  {
   "cell_type": "code",
   "execution_count": 1,
   "metadata": {},
   "outputs": [
    {
     "name": "stdout",
     "output_type": "stream",
     "text": [
      "df_salary:\n",
      "    year city salary  AI-skill-level\n",
      "0  2015   sz    2.0               0\n",
      "1  2016   sz    2.3               0\n",
      "2  2017   sz    2.5               0\n",
      "3  2016   bj    2.3               0\n",
      "4  2016   bj    2.8               0\n"
     ]
    }
   ],
   "source": [
    "import pandas as pd\n",
    "import numpy as np\n",
    "from pandas import DataFrame\n",
    "from pandas import Series\n",
    "data = {'city':['sz','sz','sz','bj','bj'],'year':['2015','2016','2017','2016','2016'],'salary':['2.0','2.3','2.5','2.3','2.8']}\n",
    "df_salary  = DataFrame(data,columns= ['year','city','salary'])\n",
    "df_salary['AI-skill-level'] = 0\n",
    "print('df_salary:\\n',df_salary)\n"
   ]
  },
  {
   "cell_type": "code",
   "execution_count": 5,
   "metadata": {},
   "outputs": [
    {
     "data": {
      "text/html": [
       "<div>\n",
       "<style scoped>\n",
       "    .dataframe tbody tr th:only-of-type {\n",
       "        vertical-align: middle;\n",
       "    }\n",
       "\n",
       "    .dataframe tbody tr th {\n",
       "        vertical-align: top;\n",
       "    }\n",
       "\n",
       "    .dataframe thead th {\n",
       "        text-align: right;\n",
       "    }\n",
       "</style>\n",
       "<table border=\"1\" class=\"dataframe\">\n",
       "  <thead>\n",
       "    <tr style=\"text-align: right;\">\n",
       "      <th></th>\n",
       "      <th>year</th>\n",
       "      <th>city</th>\n",
       "      <th>salary</th>\n",
       "    </tr>\n",
       "  </thead>\n",
       "  <tbody>\n",
       "    <tr>\n",
       "      <th>0</th>\n",
       "      <td>2015</td>\n",
       "      <td>sz</td>\n",
       "      <td>2.0</td>\n",
       "    </tr>\n",
       "    <tr>\n",
       "      <th>2</th>\n",
       "      <td>2017</td>\n",
       "      <td>sz</td>\n",
       "      <td>2.5</td>\n",
       "    </tr>\n",
       "    <tr>\n",
       "      <th>4</th>\n",
       "      <td>2016</td>\n",
       "      <td>bj</td>\n",
       "      <td>2.8</td>\n",
       "    </tr>\n",
       "  </tbody>\n",
       "</table>\n",
       "</div>"
      ],
      "text/plain": [
       "   year city salary\n",
       "0  2015   sz    2.0\n",
       "2  2017   sz    2.5\n",
       "4  2016   bj    2.8"
      ]
     },
     "execution_count": 5,
     "metadata": {},
     "output_type": "execute_result"
    }
   ],
   "source": [
    "#复合切片，即行和列的指标,为什么1:3的切片得到的是1-2的数据呢？\n",
    "df_salary[1:3][['year','city']]\n",
    "\n",
    "#复合切片，隔行拿,iloc\n",
    "df_salary.iloc[[0,2,4]][['year','city','salary']]"
   ]
  },
  {
   "cell_type": "code",
   "execution_count": 7,
   "metadata": {},
   "outputs": [
    {
     "name": "stdout",
     "output_type": "stream",
     "text": [
      "s1:\n",
      " a    1.1\n",
      "c   -2.2\n",
      "d    3.3\n",
      "e    4.4\n",
      "dtype: float64\n",
      "s2:\n",
      " a   -5.5\n",
      "c    6.6\n",
      "e    7.7\n",
      "f    8.8\n",
      "g    9.9\n",
      "dtype: float64\n"
     ]
    }
   ],
   "source": [
    "#数学运算\n",
    "s1=Series([1.1,-2.2,3.3,4.4],index=['a','c','d','e'])\n",
    "s2=Series([-5.5,6.6,7.7,8.8,9.9],index=['a','c','e','f','g'])\n",
    "print('s1:\\n',s1)\n",
    "print('s2:\\n',s2)"
   ]
  },
  {
   "cell_type": "code",
   "execution_count": 12,
   "metadata": {},
   "outputs": [
    {
     "data": {
      "text/plain": [
       "a    6.6\n",
       "c   -8.8\n",
       "d    3.3\n",
       "e   -3.3\n",
       "f   -8.8\n",
       "g   -9.9\n",
       "dtype: float64"
      ]
     },
     "execution_count": 12,
     "metadata": {},
     "output_type": "execute_result"
    }
   ],
   "source": [
    "#数据自动对齐\n",
    "s1+s2\n",
    "#给NaN赋值，然后相加\n",
    "s1.add(s2,fill_value=0)\n",
    "#给NaN赋值，然后相减\n",
    "s1.sub(s2,fill_value=0)\n",
    "#除法 div\n",
    "#乘法 mul\n",
    "#那么DataFrame也可以用fill_value吗？"
   ]
  },
  {
   "cell_type": "code",
   "execution_count": 8,
   "metadata": {},
   "outputs": [
    {
     "name": "stdout",
     "output_type": "stream",
     "text": [
      "df1:\n",
      "     a  b  c\n",
      "bj  0  1  2\n",
      "sh  3  4  5\n",
      "sz  6  7  8\n",
      "df2:\n",
      "     a   b   c\n",
      "bj  0   1   2\n",
      "sh  3   4   5\n",
      "sz  6   7   8\n",
      "hz  9  10  11\n"
     ]
    }
   ],
   "source": [
    "df1 = DataFrame(np.arange(9).reshape((3,3)),columns=list('abc'),index=['bj','sh','sz'])#随机产生9个数，然后画成一个3*3的表格，指定列为abc,行为bj,sh,sz\n",
    "df2 = DataFrame(np.arange(12).reshape((4,3)),columns=list('abc'),index=['bj','sh','sz','hz'])\n",
    "print('df1:\\n',df1)\n",
    "print('df2:\\n',df2)"
   ]
  },
  {
   "cell_type": "code",
   "execution_count": 10,
   "metadata": {},
   "outputs": [
    {
     "data": {
      "text/html": [
       "<div>\n",
       "<style scoped>\n",
       "    .dataframe tbody tr th:only-of-type {\n",
       "        vertical-align: middle;\n",
       "    }\n",
       "\n",
       "    .dataframe tbody tr th {\n",
       "        vertical-align: top;\n",
       "    }\n",
       "\n",
       "    .dataframe thead th {\n",
       "        text-align: right;\n",
       "    }\n",
       "</style>\n",
       "<table border=\"1\" class=\"dataframe\">\n",
       "  <thead>\n",
       "    <tr style=\"text-align: right;\">\n",
       "      <th></th>\n",
       "      <th>a</th>\n",
       "      <th>b</th>\n",
       "      <th>c</th>\n",
       "    </tr>\n",
       "  </thead>\n",
       "  <tbody>\n",
       "    <tr>\n",
       "      <th>bj</th>\n",
       "      <td>0.0</td>\n",
       "      <td>2.0</td>\n",
       "      <td>4.0</td>\n",
       "    </tr>\n",
       "    <tr>\n",
       "      <th>hz</th>\n",
       "      <td>NaN</td>\n",
       "      <td>NaN</td>\n",
       "      <td>NaN</td>\n",
       "    </tr>\n",
       "    <tr>\n",
       "      <th>sh</th>\n",
       "      <td>6.0</td>\n",
       "      <td>8.0</td>\n",
       "      <td>10.0</td>\n",
       "    </tr>\n",
       "    <tr>\n",
       "      <th>sz</th>\n",
       "      <td>12.0</td>\n",
       "      <td>14.0</td>\n",
       "      <td>16.0</td>\n",
       "    </tr>\n",
       "  </tbody>\n",
       "</table>\n",
       "</div>"
      ],
      "text/plain": [
       "       a     b     c\n",
       "bj   0.0   2.0   4.0\n",
       "hz   NaN   NaN   NaN\n",
       "sh   6.0   8.0  10.0\n",
       "sz  12.0  14.0  16.0"
      ]
     },
     "execution_count": 10,
     "metadata": {},
     "output_type": "execute_result"
    }
   ],
   "source": [
    "#DataFrame也有数据自动对齐\n",
    "df1+df2"
   ]
  },
  {
   "cell_type": "code",
   "execution_count": 13,
   "metadata": {},
   "outputs": [
    {
     "name": "stdout",
     "output_type": "stream",
     "text": [
      "df3:\n",
      "            a         b         c\n",
      "bj -0.049009  0.542153  0.414655\n",
      "sh -1.276185  0.382055 -0.934873\n",
      "sz  0.135531  0.228906  0.633119\n",
      "gz -0.363061  0.099098  0.299026\n"
     ]
    }
   ],
   "source": [
    "df3=DataFrame(np.random.randn(4,3),columns = list('abc'),index =['bj','sh','sz','gz'] )\n",
    "print('df3:\\n',df3)"
   ]
  },
  {
   "cell_type": "code",
   "execution_count": 15,
   "metadata": {},
   "outputs": [
    {
     "data": {
      "text/html": [
       "<div>\n",
       "<style scoped>\n",
       "    .dataframe tbody tr th:only-of-type {\n",
       "        vertical-align: middle;\n",
       "    }\n",
       "\n",
       "    .dataframe tbody tr th {\n",
       "        vertical-align: top;\n",
       "    }\n",
       "\n",
       "    .dataframe thead th {\n",
       "        text-align: right;\n",
       "    }\n",
       "</style>\n",
       "<table border=\"1\" class=\"dataframe\">\n",
       "  <thead>\n",
       "    <tr style=\"text-align: right;\">\n",
       "      <th></th>\n",
       "      <th>a</th>\n",
       "      <th>b</th>\n",
       "      <th>c</th>\n",
       "    </tr>\n",
       "  </thead>\n",
       "  <tbody>\n",
       "    <tr>\n",
       "      <th>bj</th>\n",
       "      <td>0.002402</td>\n",
       "      <td>0.293930</td>\n",
       "      <td>0.171939</td>\n",
       "    </tr>\n",
       "    <tr>\n",
       "      <th>sh</th>\n",
       "      <td>1.628647</td>\n",
       "      <td>0.145966</td>\n",
       "      <td>0.873988</td>\n",
       "    </tr>\n",
       "    <tr>\n",
       "      <th>sz</th>\n",
       "      <td>0.018369</td>\n",
       "      <td>0.052398</td>\n",
       "      <td>0.400839</td>\n",
       "    </tr>\n",
       "    <tr>\n",
       "      <th>gz</th>\n",
       "      <td>0.131813</td>\n",
       "      <td>0.009820</td>\n",
       "      <td>0.089417</td>\n",
       "    </tr>\n",
       "  </tbody>\n",
       "</table>\n",
       "</div>"
      ],
      "text/plain": [
       "           a         b         c\n",
       "bj  0.002402  0.293930  0.171939\n",
       "sh  1.628647  0.145966  0.873988\n",
       "sz  0.018369  0.052398  0.400839\n",
       "gz  0.131813  0.009820  0.089417"
      ]
     },
     "execution_count": 15,
     "metadata": {},
     "output_type": "execute_result"
    }
   ],
   "source": [
    "#将DataFrame 中的负数全部变成正数？ ————要调用np中的abs()\n",
    "np.abs(df3)\n",
    "#将DataFrame 中的数进行平方————power()\n",
    "np.power(df3,2)"
   ]
  },
  {
   "cell_type": "code",
   "execution_count": 16,
   "metadata": {},
   "outputs": [
    {
     "data": {
      "text/html": [
       "<div>\n",
       "<style scoped>\n",
       "    .dataframe tbody tr th:only-of-type {\n",
       "        vertical-align: middle;\n",
       "    }\n",
       "\n",
       "    .dataframe tbody tr th {\n",
       "        vertical-align: top;\n",
       "    }\n",
       "\n",
       "    .dataframe thead th {\n",
       "        text-align: right;\n",
       "    }\n",
       "</style>\n",
       "<table border=\"1\" class=\"dataframe\">\n",
       "  <thead>\n",
       "    <tr style=\"text-align: right;\">\n",
       "      <th></th>\n",
       "      <th>a</th>\n",
       "      <th>b</th>\n",
       "      <th>c</th>\n",
       "    </tr>\n",
       "  </thead>\n",
       "  <tbody>\n",
       "    <tr>\n",
       "      <th>min</th>\n",
       "      <td>-1.276185</td>\n",
       "      <td>0.099098</td>\n",
       "      <td>-0.934873</td>\n",
       "    </tr>\n",
       "    <tr>\n",
       "      <th>max</th>\n",
       "      <td>0.135531</td>\n",
       "      <td>0.542153</td>\n",
       "      <td>0.633119</td>\n",
       "    </tr>\n",
       "  </tbody>\n",
       "</table>\n",
       "</div>"
      ],
      "text/plain": [
       "            a         b         c\n",
       "min -1.276185  0.099098 -0.934873\n",
       "max  0.135531  0.542153  0.633119"
      ]
     },
     "execution_count": 16,
     "metadata": {},
     "output_type": "execute_result"
    }
   ],
   "source": [
    "#返回DataFrame中的最大值和最小值，然后再把最大值和最小值做一个表格\n",
    "#找出每一列的最大值和最小值\n",
    "def f(x):\n",
    "    return Series([x.min(),x.max()],index=['min','max']) \n",
    "df3.apply(f)"
   ]
  },
  {
   "cell_type": "code",
   "execution_count": 20,
   "metadata": {},
   "outputs": [
    {
     "data": {
      "text/html": [
       "<div>\n",
       "<style scoped>\n",
       "    .dataframe tbody tr th:only-of-type {\n",
       "        vertical-align: middle;\n",
       "    }\n",
       "\n",
       "    .dataframe tbody tr th {\n",
       "        vertical-align: top;\n",
       "    }\n",
       "\n",
       "    .dataframe thead th {\n",
       "        text-align: right;\n",
       "    }\n",
       "</style>\n",
       "<table border=\"1\" class=\"dataframe\">\n",
       "  <thead>\n",
       "    <tr style=\"text-align: right;\">\n",
       "      <th></th>\n",
       "      <th>a</th>\n",
       "      <th>b</th>\n",
       "      <th>c</th>\n",
       "    </tr>\n",
       "  </thead>\n",
       "  <tbody>\n",
       "    <tr>\n",
       "      <th>bj</th>\n",
       "      <td>-0.049</td>\n",
       "      <td>0.542</td>\n",
       "      <td>0.415</td>\n",
       "    </tr>\n",
       "    <tr>\n",
       "      <th>sh</th>\n",
       "      <td>-1.276</td>\n",
       "      <td>0.382</td>\n",
       "      <td>-0.935</td>\n",
       "    </tr>\n",
       "    <tr>\n",
       "      <th>sz</th>\n",
       "      <td>0.136</td>\n",
       "      <td>0.229</td>\n",
       "      <td>0.633</td>\n",
       "    </tr>\n",
       "    <tr>\n",
       "      <th>gz</th>\n",
       "      <td>-0.363</td>\n",
       "      <td>0.099</td>\n",
       "      <td>0.299</td>\n",
       "    </tr>\n",
       "  </tbody>\n",
       "</table>\n",
       "</div>"
      ],
      "text/plain": [
       "         a      b       c\n",
       "bj  -0.049  0.542   0.415\n",
       "sh  -1.276  0.382  -0.935\n",
       "sz   0.136  0.229   0.633\n",
       "gz  -0.363  0.099   0.299"
      ]
     },
     "execution_count": 20,
     "metadata": {},
     "output_type": "execute_result"
    }
   ],
   "source": [
    "#格式化\n",
    "#所有的小数只保留3位\n",
    "def format(x):\n",
    "    return '%.3f' %x\n",
    "df3.applymap(format)\n",
    "\n",
    "#apply()和applymap()有什么区别？\n",
    "\n",
    "#其中apply()方法是针对某些行或列进行操作的，而applymap()方法则是针对所有元素进行操作的。\n",
    "\n",
    "#apply(参数名)\n",
    "#applymap(函数名)"
   ]
  },
  {
   "cell_type": "code",
   "execution_count": 23,
   "metadata": {},
   "outputs": [
    {
     "name": "stdout",
     "output_type": "stream",
     "text": [
      "s3:\n",
      " d    0\n",
      "a    1\n",
      "b    2\n",
      "c    3\n",
      "dtype: int64\n"
     ]
    },
    {
     "data": {
      "text/plain": [
       "a    1\n",
       "b    2\n",
       "c    3\n",
       "d    0\n",
       "dtype: int64"
      ]
     },
     "execution_count": 23,
     "metadata": {},
     "output_type": "execute_result"
    }
   ],
   "source": [
    "#排列和排名\n",
    "#换种说法就是排序和排值\n",
    "s3=Series(range(4),index = ['d','a','b','c'])\n",
    "print('s3:\\n',s3)\n",
    "#对Series进行排序\n",
    "s3.sort_index(ascending = 1) #顺序\n",
    "s3.sort_index(ascending = 0) #逆序"
   ]
  },
  {
   "cell_type": "code",
   "execution_count": 27,
   "metadata": {},
   "outputs": [
    {
     "name": "stdout",
     "output_type": "stream",
     "text": [
      "df6:\n",
      "        d  a  b  c\n",
      "three  0  1  2  3\n",
      "one    4  5  6  7\n"
     ]
    },
    {
     "data": {
      "text/html": [
       "<div>\n",
       "<style scoped>\n",
       "    .dataframe tbody tr th:only-of-type {\n",
       "        vertical-align: middle;\n",
       "    }\n",
       "\n",
       "    .dataframe tbody tr th {\n",
       "        vertical-align: top;\n",
       "    }\n",
       "\n",
       "    .dataframe thead th {\n",
       "        text-align: right;\n",
       "    }\n",
       "</style>\n",
       "<table border=\"1\" class=\"dataframe\">\n",
       "  <thead>\n",
       "    <tr style=\"text-align: right;\">\n",
       "      <th></th>\n",
       "      <th>d</th>\n",
       "      <th>c</th>\n",
       "      <th>b</th>\n",
       "      <th>a</th>\n",
       "    </tr>\n",
       "  </thead>\n",
       "  <tbody>\n",
       "    <tr>\n",
       "      <th>one</th>\n",
       "      <td>4</td>\n",
       "      <td>7</td>\n",
       "      <td>6</td>\n",
       "      <td>5</td>\n",
       "    </tr>\n",
       "    <tr>\n",
       "      <th>three</th>\n",
       "      <td>0</td>\n",
       "      <td>3</td>\n",
       "      <td>2</td>\n",
       "      <td>1</td>\n",
       "    </tr>\n",
       "  </tbody>\n",
       "</table>\n",
       "</div>"
      ],
      "text/plain": [
       "       d  c  b  a\n",
       "one    4  7  6  5\n",
       "three  0  3  2  1"
      ]
     },
     "execution_count": 27,
     "metadata": {},
     "output_type": "execute_result"
    }
   ],
   "source": [
    "df6 = DataFrame(np.arange(8).reshape(2,4),index=['three','one'],columns=['d','a','b','c'])\n",
    "print('df6:\\n',df6)\n",
    "#对DataFrame进行排序\n",
    "df6.sort_index()\n",
    "#对行和列都进行排序\n",
    "df6.sort_index(axis=1).sort_index()\n",
    "#同样的DataFrame倒序的话也再加一个条件就行，这些都是参数嘛\n",
    "df6.sort_index(axis=1,ascending=False).sort_index() #这里表示列是倒序的"
   ]
  },
  {
   "cell_type": "code",
   "execution_count": 29,
   "metadata": {},
   "outputs": [
    {
     "name": "stdout",
     "output_type": "stream",
     "text": [
      "s5:\n",
      " 0     7.0\n",
      "1    -5.0\n",
      "2    10.0\n",
      "3     2.0\n",
      "4     0.0\n",
      "5    12.0\n",
      "dtype: float64\n"
     ]
    },
    {
     "data": {
      "text/plain": [
       "0    4.0\n",
       "1    1.0\n",
       "2    5.0\n",
       "3    3.0\n",
       "4    2.0\n",
       "5    6.0\n",
       "dtype: float64"
      ]
     },
     "execution_count": 29,
     "metadata": {},
     "output_type": "execute_result"
    }
   ],
   "source": [
    "#排名，即排值\n",
    "s5= Series([7.,-5,10,2,0,12])\n",
    "print('s5:\\n',s5)\n",
    "s5.rank() #返回的结果是对值进行了排序\n",
    "\n",
    "#还有其他排序方式"
   ]
  },
  {
   "cell_type": "code",
   "execution_count": 31,
   "metadata": {},
   "outputs": [
    {
     "name": "stdout",
     "output_type": "stream",
     "text": [
      "s6:\n",
      " a    0\n",
      "a    1\n",
      "b    2\n",
      "b    3\n",
      "c    4\n",
      "dtype: int64\n"
     ]
    },
    {
     "data": {
      "text/plain": [
       "a    0\n",
       "a    1\n",
       "dtype: int64"
      ]
     },
     "execution_count": 31,
     "metadata": {},
     "output_type": "execute_result"
    }
   ],
   "source": [
    "#重复索引\n",
    "#索引是重复的，所以用一个索引的时候可能会返回一个以上的值\n",
    "s6= Series(range(5),index=['a','a','b','b','c'])\n",
    "print('s6:\\n',s6)\n",
    "s6['a']\n",
    "#如果是带有重复索引，那么其值是一个series\n",
    "#不带有重复索引，其值是一个int"
   ]
  },
  {
   "cell_type": "code",
   "execution_count": 34,
   "metadata": {},
   "outputs": [
    {
     "data": {
      "text/plain": [
       "Index(['a', 'b', 'c'], dtype='object')"
      ]
     },
     "execution_count": 34,
     "metadata": {},
     "output_type": "execute_result"
    }
   ],
   "source": [
    "#查看某个index是否是重复索引\n",
    "s6.index.unique() #看看哪些index是unique的，哪些不是\n",
    "s6.index.is_unique #判断整个Series的index是不是都是unique，只要有一个不满足unique，就返回False"
   ]
  },
  {
   "cell_type": "code",
   "execution_count": null,
   "metadata": {},
   "outputs": [],
   "source": []
  }
 ],
 "metadata": {
  "kernelspec": {
   "display_name": "Python 3.6",
   "language": "python",
   "name": "python36"
  },
  "language_info": {
   "codemirror_mode": {
    "name": "ipython",
    "version": 3
   },
   "file_extension": ".py",
   "mimetype": "text/x-python",
   "name": "python",
   "nbconvert_exporter": "python",
   "pygments_lexer": "ipython3",
   "version": "3.6.6"
  }
 },
 "nbformat": 4,
 "nbformat_minor": 2
}
