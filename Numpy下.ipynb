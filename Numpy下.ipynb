{
 "cells": [
  {
   "cell_type": "code",
   "execution_count": 1,
   "metadata": {},
   "outputs": [
    {
     "name": "stdout",
     "output_type": "stream",
     "text": [
      "nums_1:\n",
      " [1 0 0 3 2 5]\n",
      "nums_2:\n",
      " [4 9 0 3 2 6]\n"
     ]
    }
   ],
   "source": [
    "#1.对两个numpy 数组进行操作\n",
    "import numpy as np\n",
    "#集合的运用\n",
    "\n",
    "#创建两个数组\n",
    "nums_1=np.array([1,0,0,3,2,5])\n",
    "nums_2=np.array([4,9,0,3,2,6])\n",
    "print('nums_1:\\n',nums_1)\n",
    "print('nums_2:\\n',nums_2)"
   ]
  },
  {
   "cell_type": "code",
   "execution_count": 4,
   "metadata": {},
   "outputs": [
    {
     "name": "stdout",
     "output_type": "stream",
     "text": [
      "nums_1:\n",
      " [1 0 0 3 2 5]\n",
      "nums_2:\n",
      " [4 9 0 3 2 6]\n",
      "unique:\n",
      " [0 1 2 3 5]\n",
      "intersect1d:\n",
      " [0 2 3]\n",
      "union1d:\n",
      " [0 1 2 3 4 5 6 9]\n",
      "setdiff1d [1 5]\n",
      "setxor1d [1 4 5 6 9]\n"
     ]
    }
   ],
   "source": [
    "import numpy as np\n",
    "#集合的运用\n",
    "\n",
    "#创建两个数组\n",
    "nums_1=np.array([1,0,0,3,2,5])\n",
    "nums_2=np.array([4,9,0,3,2,6])\n",
    "print('nums_1:\\n',nums_1)\n",
    "print('nums_2:\\n',nums_2)\n",
    "#unique(x) 返回集合中唯一有序结果，即去重\n",
    "print('unique:\\n',np.unique(nums_1))\n",
    "#intersect1d(x,y) 返回公共元素\n",
    "print ('intersect1d:\\n',np.intersect1d(nums_1,nums_2))\n",
    "#union1d()并集\n",
    "print('union1d:\\n',np.union1d(nums_1,nums_2))\n",
    "#setdiff1d() 差集 x不在y中的值，\n",
    "print('setdiff1d',np.setdiff1d(nums_1,nums_2))\n",
    "#setxor1d() 对称差，存在一个数组，但不同时存在两个数组，并集-交集\n",
    "print('setxor1d',np.setxor1d(nums_1,nums_2))\n",
    "#以上功能都可以自动排序"
   ]
  },
  {
   "cell_type": "code",
   "execution_count": 12,
   "metadata": {},
   "outputs": [
    {
     "name": "stdout",
     "output_type": "stream",
     "text": [
      "None\n",
      "None\n",
      "None\n",
      "None\n",
      "None\n",
      "some_values:\n",
      " [5 4 1 2 9 6 7 0 3 8]\n",
      "some_values:\n",
      " [2 3 1 4 8 9 5 7 0 6]\n",
      "rand:\n",
      " [0.21557701 0.35390507 0.49263593 0.91330145 0.76582638 0.97364827\n",
      " 0.40236064 0.55277195 0.30636063 0.58661997]\n",
      "randint:\n",
      " [ -3   1  -9   5   6  -5   7   4 -10 -10]\n",
      "randn:\n",
      " [-0.40791451  1.24757841 -1.82938368 -1.59651767  0.69031204  0.92812246\n",
      "  1.58653631  0.40130586 -1.26968864  0.46920629]\n",
      "binomial:\n",
      " [1 1 1 1 0 0 1 0 1 1]\n",
      "normal:\n",
      " [ 0.89134621  3.38531819 -0.79153191  7.18460929  3.82133143  6.9783684\n",
      "  4.92382847  7.44536462  7.57231254  5.31644056]\n",
      "beta:\n",
      " [0.16293661 0.10844018 0.12340904 0.05841294 0.04212414 0.01330594\n",
      " 0.06633114 0.56242412 0.3747826  0.23094881]\n",
      "chisquare:\n",
      " [0.66649552 4.27259023 1.57659824 3.52077879]\n",
      "gamma:\n",
      " [1.82002322 1.94953292 2.99994825 0.90937998 1.28577165 1.47931679\n",
      " 0.46024753 6.0748955  1.48943635 1.55116247]\n",
      "uniform:\n",
      " [0.89773703 0.83524631 0.14631622 0.99544318 0.35572909 0.54713075\n",
      " 0.49181555 0.12965838 0.86005346 0.2183979 ]\n"
     ]
    }
   ],
   "source": [
    "#随机函数\n",
    "#可以返回各种各样的随机数，比如正态分布，均匀分布样本等\n",
    "#seed\n",
    "i=0\n",
    "while (i<5):\n",
    "    np.random.seed(3)\n",
    "    print(np.random.seed(3))\n",
    "    i+=1\n",
    "#permutation\n",
    "some_values = np.random.permutation(10)\n",
    "print('some_values:\\n',some_values)\n",
    "#shuffle 打乱随机数\n",
    "np.random.shuffle(some_values)\n",
    "print('some_values:\\n',some_values)\n",
    "#rand\n",
    "print('rand:\\n',np.random.rand(10)) #生成从0到10比较均匀的随机数\n",
    "#randint \n",
    "print('randint:\\n',np.random.randint(-10,10,10))#范围-10到10\n",
    "#randn\n",
    "print('randn:\\n',np.random.randn(10))\n",
    "#binomial\n",
    "print('binomial:\\n',np.random.binomial(1,0.5,size=10)) #0.5为概率\n",
    "#normal mean=5 std=2\n",
    "print('normal:\\n',np.random.normal(5,2,size=10))\n",
    "#beta\n",
    "print('beta:\\n',np.random.beta(1,5,10))\n",
    "#chisquare\n",
    "print('chisquare:\\n',np.random.chisquare(2,4))\n",
    "#gamma\n",
    "print('gamma:\\n',np.random.gamma(2,2,10))\n",
    "#uniform\n",
    "print('uniform:\\n',np.random.uniform(size=10))"
   ]
  },
  {
   "cell_type": "code",
   "execution_count": 4,
   "metadata": {},
   "outputs": [
    {
     "ename": "AttributeError",
     "evalue": "module 'numpy' has no attribute '__annotations__'",
     "output_type": "error",
     "traceback": [
      "\u001b[0;31m---------------------------------------------------------------------------\u001b[0m",
      "\u001b[0;31mAttributeError\u001b[0m                            Traceback (most recent call last)",
      "\u001b[0;32m<ipython-input-4-554303b4ab22>\u001b[0m in \u001b[0;36m<module>\u001b[0;34m\u001b[0m\n\u001b[1;32m      1\u001b[0m \u001b[0;32mimport\u001b[0m \u001b[0mnumpy\u001b[0m \u001b[0;32mas\u001b[0m \u001b[0mnp\u001b[0m\u001b[0;34m\u001b[0m\u001b[0m\n\u001b[0;32m----> 2\u001b[0;31m \u001b[0mnp\u001b[0m\u001b[0;34m.\u001b[0m\u001b[0m__annotations__\u001b[0m\u001b[0;34m\u001b[0m\u001b[0m\n\u001b[0m",
      "\u001b[0;31mAttributeError\u001b[0m: module 'numpy' has no attribute '__annotations__'"
     ]
    }
   ],
   "source": [
    "import numpy as np\n",
    "np.__annotations__"
   ]
  },
  {
   "cell_type": "code",
   "execution_count": 8,
   "metadata": {},
   "outputs": [
    {
     "data": {
      "text/plain": [
       "['Lock',\n",
       " 'RandomState',\n",
       " '__RandomState_ctor',\n",
       " '__all__',\n",
       " '__builtins__',\n",
       " '__cached__',\n",
       " '__doc__',\n",
       " '__file__',\n",
       " '__loader__',\n",
       " '__name__',\n",
       " '__package__',\n",
       " '__path__',\n",
       " '__spec__',\n",
       " 'absolute_import',\n",
       " 'beta',\n",
       " 'binomial',\n",
       " 'bytes',\n",
       " 'chisquare',\n",
       " 'choice',\n",
       " 'dirichlet',\n",
       " 'division',\n",
       " 'exponential',\n",
       " 'f',\n",
       " 'gamma',\n",
       " 'geometric',\n",
       " 'get_state',\n",
       " 'gumbel',\n",
       " 'hypergeometric',\n",
       " 'laplace',\n",
       " 'logistic',\n",
       " 'lognormal',\n",
       " 'logseries',\n",
       " 'mtrand',\n",
       " 'multinomial',\n",
       " 'multivariate_normal',\n",
       " 'negative_binomial',\n",
       " 'noncentral_chisquare',\n",
       " 'noncentral_f',\n",
       " 'normal',\n",
       " 'np',\n",
       " 'operator',\n",
       " 'pareto',\n",
       " 'permutation',\n",
       " 'poisson',\n",
       " 'power',\n",
       " 'print_function',\n",
       " 'rand',\n",
       " 'randint',\n",
       " 'randn',\n",
       " 'random',\n",
       " 'random_integers',\n",
       " 'random_sample',\n",
       " 'ranf',\n",
       " 'rayleigh',\n",
       " 'sample',\n",
       " 'seed',\n",
       " 'set_state',\n",
       " 'shuffle',\n",
       " 'standard_cauchy',\n",
       " 'standard_exponential',\n",
       " 'standard_gamma',\n",
       " 'standard_normal',\n",
       " 'standard_t',\n",
       " 'test',\n",
       " 'triangular',\n",
       " 'uniform',\n",
       " 'vonmises',\n",
       " 'wald',\n",
       " 'warnings',\n",
       " 'weibull',\n",
       " 'zipf']"
      ]
     },
     "execution_count": 8,
     "metadata": {},
     "output_type": "execute_result"
    }
   ],
   "source": [
    "dir(np.random)"
   ]
  },
  {
   "cell_type": "code",
   "execution_count": 9,
   "metadata": {},
   "outputs": [
    {
     "data": {
      "text/plain": [
       "['__call__',\n",
       " '__class__',\n",
       " '__delattr__',\n",
       " '__dir__',\n",
       " '__doc__',\n",
       " '__eq__',\n",
       " '__format__',\n",
       " '__ge__',\n",
       " '__getattribute__',\n",
       " '__gt__',\n",
       " '__hash__',\n",
       " '__init__',\n",
       " '__init_subclass__',\n",
       " '__le__',\n",
       " '__lt__',\n",
       " '__module__',\n",
       " '__name__',\n",
       " '__ne__',\n",
       " '__new__',\n",
       " '__qualname__',\n",
       " '__reduce__',\n",
       " '__reduce_ex__',\n",
       " '__repr__',\n",
       " '__self__',\n",
       " '__setattr__',\n",
       " '__sizeof__',\n",
       " '__str__',\n",
       " '__subclasshook__',\n",
       " '__text_signature__']"
      ]
     },
     "execution_count": 9,
     "metadata": {},
     "output_type": "execute_result"
    }
   ],
   "source": [
    "dir(np.random.randint)"
   ]
  },
  {
   "cell_type": "code",
   "execution_count": 10,
   "metadata": {},
   "outputs": [
    {
     "data": {
      "text/plain": [
       "<method-wrapper '__getattribute__' of builtin_function_or_method object at 0x7f847acbbf30>"
      ]
     },
     "execution_count": 10,
     "metadata": {},
     "output_type": "execute_result"
    }
   ],
   "source": [
    "np.random.randint.__getattribute__"
   ]
  },
  {
   "cell_type": "code",
   "execution_count": 12,
   "metadata": {},
   "outputs": [],
   "source": [
    "np.random.randint.__text_signature__"
   ]
  },
  {
   "cell_type": "code",
   "execution_count": 13,
   "metadata": {},
   "outputs": [
    {
     "data": {
      "text/plain": [
       "'\\n        randint(low, high=None, size=None, dtype=\\'l\\')\\n\\n        Return random integers from `low` (inclusive) to `high` (exclusive).\\n\\n        Return random integers from the \"discrete uniform\" distribution of\\n        the specified dtype in the \"half-open\" interval [`low`, `high`). If\\n        `high` is None (the default), then results are from [0, `low`).\\n\\n        Parameters\\n        ----------\\n        low : int\\n            Lowest (signed) integer to be drawn from the distribution (unless\\n            ``high=None``, in which case this parameter is one above the\\n            *highest* such integer).\\n        high : int, optional\\n            If provided, one above the largest (signed) integer to be drawn\\n            from the distribution (see above for behavior if ``high=None``).\\n        size : int or tuple of ints, optional\\n            Output shape.  If the given shape is, e.g., ``(m, n, k)``, then\\n            ``m * n * k`` samples are drawn.  Default is None, in which case a\\n            single value is returned.\\n        dtype : dtype, optional\\n            Desired dtype of the result. All dtypes are determined by their\\n            name, i.e., \\'int64\\', \\'int\\', etc, so byteorder is not available\\n            and a specific precision may have different C types depending\\n            on the platform. The default value is \\'np.int\\'.\\n\\n            .. versionadded:: 1.11.0\\n\\n        Returns\\n        -------\\n        out : int or ndarray of ints\\n            `size`-shaped array of random integers from the appropriate\\n            distribution, or a single such random int if `size` not provided.\\n\\n        See Also\\n        --------\\n        random.random_integers : similar to `randint`, only for the closed\\n            interval [`low`, `high`], and 1 is the lowest value if `high` is\\n            omitted. In particular, this other one is the one to use to generate\\n            uniformly distributed discrete non-integers.\\n\\n        Examples\\n        --------\\n        >>> np.random.randint(2, size=10)\\n        array([1, 0, 0, 0, 1, 1, 0, 0, 1, 0])\\n        >>> np.random.randint(1, size=10)\\n        array([0, 0, 0, 0, 0, 0, 0, 0, 0, 0])\\n\\n        Generate a 2 x 4 array of ints between 0 and 4, inclusive:\\n\\n        >>> np.random.randint(5, size=(2, 4))\\n        array([[4, 0, 2, 1],\\n               [3, 2, 2, 0]])\\n\\n        '"
      ]
     },
     "execution_count": 13,
     "metadata": {},
     "output_type": "execute_result"
    }
   ],
   "source": [
    "np.random.randint.__doc__"
   ]
  },
  {
   "cell_type": "code",
   "execution_count": 15,
   "metadata": {},
   "outputs": [
    {
     "data": {
      "text/plain": [
       "['__call__',\n",
       " '__class__',\n",
       " '__delattr__',\n",
       " '__dir__',\n",
       " '__doc__',\n",
       " '__eq__',\n",
       " '__format__',\n",
       " '__ge__',\n",
       " '__getattribute__',\n",
       " '__gt__',\n",
       " '__hash__',\n",
       " '__init__',\n",
       " '__init_subclass__',\n",
       " '__le__',\n",
       " '__lt__',\n",
       " '__module__',\n",
       " '__name__',\n",
       " '__ne__',\n",
       " '__new__',\n",
       " '__qualname__',\n",
       " '__reduce__',\n",
       " '__reduce_ex__',\n",
       " '__repr__',\n",
       " '__self__',\n",
       " '__setattr__',\n",
       " '__sizeof__',\n",
       " '__str__',\n",
       " '__subclasshook__',\n",
       " '__text_signature__']"
      ]
     },
     "execution_count": 15,
     "metadata": {},
     "output_type": "execute_result"
    }
   ],
   "source": [
    "dir(np.random.binomial)"
   ]
  },
  {
   "cell_type": "code",
   "execution_count": 16,
   "metadata": {},
   "outputs": [
    {
     "data": {
      "text/plain": [
       "<method-wrapper '__call__' of builtin_function_or_method object at 0x7f847acbc7e0>"
      ]
     },
     "execution_count": 16,
     "metadata": {},
     "output_type": "execute_result"
    }
   ],
   "source": [
    "np.random.binomial.__call__"
   ]
  },
  {
   "cell_type": "code",
   "execution_count": 20,
   "metadata": {},
   "outputs": [
    {
     "data": {
      "text/plain": [
       "'RandomState.binomial'"
      ]
     },
     "execution_count": 20,
     "metadata": {},
     "output_type": "execute_result"
    }
   ],
   "source": [
    "np.random.binomial.__qualname__"
   ]
  },
  {
   "cell_type": "code",
   "execution_count": 21,
   "metadata": {},
   "outputs": [
    {
     "data": {
      "text/plain": [
       "<mtrand.RandomState at 0x7f847acbbdc8>"
      ]
     },
     "execution_count": 21,
     "metadata": {},
     "output_type": "execute_result"
    }
   ],
   "source": [
    "np.random.binomial.__self__"
   ]
  },
  {
   "cell_type": "code",
   "execution_count": 22,
   "metadata": {},
   "outputs": [
    {
     "data": {
      "text/plain": [
       "<method-wrapper '__getattribute__' of builtin_function_or_method object at 0x7f847acbc7e0>"
      ]
     },
     "execution_count": 22,
     "metadata": {},
     "output_type": "execute_result"
    }
   ],
   "source": [
    "np.random.binomial.__getattribute__"
   ]
  },
  {
   "cell_type": "code",
   "execution_count": 23,
   "metadata": {},
   "outputs": [
    {
     "name": "stdout",
     "output_type": "stream",
     "text": [
      "Help on built-in function binomial:\n",
      "\n",
      "binomial(...) method of mtrand.RandomState instance\n",
      "    binomial(n, p, size=None)\n",
      "    \n",
      "    Draw samples from a binomial distribution.\n",
      "    \n",
      "    Samples are drawn from a binomial distribution with specified\n",
      "    parameters, n trials and p probability of success where\n",
      "    n an integer >= 0 and p is in the interval [0,1]. (n may be\n",
      "    input as a float, but it is truncated to an integer in use)\n",
      "    \n",
      "    Parameters\n",
      "    ----------\n",
      "    n : int or array_like of ints\n",
      "        Parameter of the distribution, >= 0. Floats are also accepted,\n",
      "        but they will be truncated to integers.\n",
      "    p : float or array_like of floats\n",
      "        Parameter of the distribution, >= 0 and <=1.\n",
      "    size : int or tuple of ints, optional\n",
      "        Output shape.  If the given shape is, e.g., ``(m, n, k)``, then\n",
      "        ``m * n * k`` samples are drawn.  If size is ``None`` (default),\n",
      "        a single value is returned if ``n`` and ``p`` are both scalars.\n",
      "        Otherwise, ``np.broadcast(n, p).size`` samples are drawn.\n",
      "    \n",
      "    Returns\n",
      "    -------\n",
      "    out : ndarray or scalar\n",
      "        Drawn samples from the parameterized binomial distribution, where\n",
      "        each sample is equal to the number of successes over the n trials.\n",
      "    \n",
      "    See Also\n",
      "    --------\n",
      "    scipy.stats.binom : probability density function, distribution or\n",
      "        cumulative density function, etc.\n",
      "    \n",
      "    Notes\n",
      "    -----\n",
      "    The probability density for the binomial distribution is\n",
      "    \n",
      "    .. math:: P(N) = \\binom{n}{N}p^N(1-p)^{n-N},\n",
      "    \n",
      "    where :math:`n` is the number of trials, :math:`p` is the probability\n",
      "    of success, and :math:`N` is the number of successes.\n",
      "    \n",
      "    When estimating the standard error of a proportion in a population by\n",
      "    using a random sample, the normal distribution works well unless the\n",
      "    product p*n <=5, where p = population proportion estimate, and n =\n",
      "    number of samples, in which case the binomial distribution is used\n",
      "    instead. For example, a sample of 15 people shows 4 who are left\n",
      "    handed, and 11 who are right handed. Then p = 4/15 = 27%. 0.27*15 = 4,\n",
      "    so the binomial distribution should be used in this case.\n",
      "    \n",
      "    References\n",
      "    ----------\n",
      "    .. [1] Dalgaard, Peter, \"Introductory Statistics with R\",\n",
      "           Springer-Verlag, 2002.\n",
      "    .. [2] Glantz, Stanton A. \"Primer of Biostatistics.\", McGraw-Hill,\n",
      "           Fifth Edition, 2002.\n",
      "    .. [3] Lentner, Marvin, \"Elementary Applied Statistics\", Bogden\n",
      "           and Quigley, 1972.\n",
      "    .. [4] Weisstein, Eric W. \"Binomial Distribution.\" From MathWorld--A\n",
      "           Wolfram Web Resource.\n",
      "           http://mathworld.wolfram.com/BinomialDistribution.html\n",
      "    .. [5] Wikipedia, \"Binomial distribution\",\n",
      "           https://en.wikipedia.org/wiki/Binomial_distribution\n",
      "    \n",
      "    Examples\n",
      "    --------\n",
      "    Draw samples from the distribution:\n",
      "    \n",
      "    >>> n, p = 10, .5  # number of trials, probability of each trial\n",
      "    >>> s = np.random.binomial(n, p, 1000)\n",
      "    # result of flipping a coin 10 times, tested 1000 times.\n",
      "    \n",
      "    A real world example. A company drills 9 wild-cat oil exploration\n",
      "    wells, each with an estimated probability of success of 0.1. All nine\n",
      "    wells fail. What is the probability of that happening?\n",
      "    \n",
      "    Let's do 20,000 trials of the model, and count the number that\n",
      "    generate zero positive results.\n",
      "    \n",
      "    >>> sum(np.random.binomial(9, 0.1, 20000) == 0)/20000.\n",
      "    # answer = 0.38885, or 38%.\n",
      "\n"
     ]
    }
   ],
   "source": [
    "help(np.random.binomial)"
   ]
  },
  {
   "cell_type": "code",
   "execution_count": null,
   "metadata": {},
   "outputs": [],
   "source": []
  }
 ],
 "metadata": {
  "kernelspec": {
   "display_name": "Python 3.6",
   "language": "python",
   "name": "python36"
  },
  "language_info": {
   "codemirror_mode": {
    "name": "ipython",
    "version": 3
   },
   "file_extension": ".py",
   "mimetype": "text/x-python",
   "name": "python",
   "nbconvert_exporter": "python",
   "pygments_lexer": "ipython3",
   "version": "3.6.6"
  }
 },
 "nbformat": 4,
 "nbformat_minor": 2
}
