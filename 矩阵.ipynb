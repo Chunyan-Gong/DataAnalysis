{
 "cells": [
  {
   "cell_type": "code",
   "execution_count": null,
   "metadata": {
    "collapsed": true
   },
   "outputs": [],
   "source": [
    "#首先Numpy和Pandas的区别\n",
    "#Numpy是一个数据计算库，以ndarray为核心，主要针对矩阵和计算。一般计算用Numpy\n",
    "#Pandas着重于表格，主要用于数据分析，量化和金融（废话，金融数据大多都是表格类型，而不是矩阵类型），而复杂的表格合并和查询的话用pandas"
   ]
  },
  {
   "cell_type": "code",
   "execution_count": null,
   "metadata": {},
   "outputs": [],
   "source": [
    "#本章内容\n",
    "#1. ndarray的特性和切片索引\n",
    "#2. 常用函数\n",
    "#3. 常用统计函数\n",
    "#4. 简单集合运算\n",
    "#5. 随机函数运用"
   ]
  },
  {
   "cell_type": "code",
   "execution_count": 6,
   "metadata": {},
   "outputs": [
    {
     "data": {
      "text/plain": [
       "array([1, 2, 3])"
      ]
     },
     "execution_count": 6,
     "metadata": {},
     "output_type": "execute_result"
    }
   ],
   "source": [
    "import numpy as np\n",
    "#array()函数，list→array\n",
    "np.array([1,2,3])"
   ]
  },
  {
   "cell_type": "code",
   "execution_count": 5,
   "metadata": {},
   "outputs": [
    {
     "data": {
      "text/plain": [
       "array([4, 5, 6])"
      ]
     },
     "execution_count": 5,
     "metadata": {},
     "output_type": "execute_result"
    }
   ],
   "source": [
    "import numpy as np\n",
    "#tuple→array\n",
    "np.array((4,5,6))"
   ]
  },
  {
   "cell_type": "code",
   "execution_count": 7,
   "metadata": {},
   "outputs": [
    {
     "name": "stdout",
     "output_type": "stream",
     "text": [
      "arr1:\n",
      " [[1 2 3]\n",
      " [0 0 0]]\n",
      "arr2:\n",
      " [[1 2 3]\n",
      " [4 5 6]]\n",
      "arr3:\n",
      " [[1 2 3]\n",
      " [0 0 0]]\n"
     ]
    }
   ],
   "source": [
    "#np.array和np.asarray的区别\n",
    "arr1=np.array([[1,2,3],[4,5,6]]) #注意有两个中括号\n",
    "arr2=np.array(arr1)\n",
    "arr3=np.asanyarray(arr1)\n",
    "arr1[1] = 0  #这里将第一个列表赋值为0\n",
    "print('arr1:\\n',arr1)\n",
    "print('arr2:\\n',arr2)\n",
    "print('arr3:\\n',arr3)\n",
    "#可以看出np.array()是不会改变的\n",
    "#np.asanyarray()是会改变的"
   ]
  },
  {
   "cell_type": "code",
   "execution_count": 9,
   "metadata": {},
   "outputs": [
    {
     "name": "stdout",
     "output_type": "stream",
     "text": [
      "list : \n",
      " [1, 2, 3, 4, 5, 6, 7, 8, 9] <class 'list'>\n",
      "arr: \n",
      " [1 2 3 4 5 6 7 8 9] <class 'numpy.ndarray'>\n"
     ]
    }
   ],
   "source": [
    "#np.arrange()，和list中的range()是一样的\n",
    "list_range = [x for x in range(1,10) ] #解析列表\n",
    "arr_range = np.arange(1,10)\n",
    "print('list : \\n',list_range,type(list_range))\n",
    "print('arr: \\n',arr_range,type(arr_range))"
   ]
  },
  {
   "cell_type": "code",
   "execution_count": 11,
   "metadata": {},
   "outputs": [
    {
     "name": "stdout",
     "output_type": "stream",
     "text": [
      "arr1 : \n",
      " [[1 2 3]\n",
      " [0 0 0]]\n",
      "arr_ones_likes : \n",
      " [[1 1 1]\n",
      " [1 1 1]]\n"
     ]
    }
   ],
   "source": [
    "#np.ones 全部是1的矩阵\n",
    "arr_ones = np.ones((2,2)) #表示是一个2*2的矩阵\n",
    "#np.ones_like\n",
    "arr_ones_likes = np.ones_like(arr1) #这个生成的不是arr1,而是生成的和arr1相同的行数和列数的全1矩阵\n",
    "print('arr1 : \\n', arr1)\n",
    "print('arr_ones_likes : \\n', arr_ones_likes)"
   ]
  },
  {
   "cell_type": "code",
   "execution_count": null,
   "metadata": {},
   "outputs": [],
   "source": [
    "#np.zeros & np.zeros_like\n"
   ]
  },
  {
   "cell_type": "code",
   "execution_count": 12,
   "metadata": {},
   "outputs": [
    {
     "name": "stdout",
     "output_type": "stream",
     "text": [
      "arr_empty : \n",
      " [[6.91499233e-310 4.63867385e-310]\n",
      " [1.58101007e-322 0.00000000e+000]]\n",
      "arr_empty_like : \n",
      " [[139961002904488  93887806318928               0]\n",
      " [              0               0               0]]\n"
     ]
    }
   ],
   "source": [
    "#np.empty & np.empty_like\n",
    "#empty列表并不意味着就是没有任何元素的，empty表示的是占据一个内存的位置，如果该位置有元素就会显示出来\n",
    "arr_empty  = np.empty((2,2))\n",
    "arr_empty_like = np.empty_like(arr1)\n",
    "print('arr_empty : \\n', arr_empty)\n",
    "print('arr_empty_like : \\n', arr_empty_like)"
   ]
  },
  {
   "cell_type": "code",
   "execution_count": 13,
   "metadata": {},
   "outputs": [
    {
     "name": "stdout",
     "output_type": "stream",
     "text": [
      "arr_eye : \n",
      " [[1. 0. 0.]\n",
      " [0. 1. 0.]\n",
      " [0. 0. 1.]]\n"
     ]
    }
   ],
   "source": [
    "#np.eye 对角方阵\n",
    "arr_eye = np.eye(3) #3*3的对角方阵\n",
    "print('arr_eye : \\n', arr_eye)"
   ]
  },
  {
   "cell_type": "code",
   "execution_count": null,
   "metadata": {},
   "outputs": [],
   "source": []
  }
 ],
 "metadata": {
  "kernelspec": {
   "display_name": "Python 3.6",
   "language": "python",
   "name": "python36"
  },
  "language_info": {
   "codemirror_mode": {
    "name": "ipython",
    "version": 3
   },
   "file_extension": ".py",
   "mimetype": "text/x-python",
   "name": "python",
   "nbconvert_exporter": "python",
   "pygments_lexer": "ipython3",
   "version": "3.6.6"
  }
 },
 "nbformat": 4,
 "nbformat_minor": 2
}
