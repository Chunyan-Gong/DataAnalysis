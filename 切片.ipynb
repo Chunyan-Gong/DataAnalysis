{
 "cells": [
  {
   "cell_type": "code",
   "execution_count": null,
   "metadata": {},
   "outputs": [],
   "source": [
    "#1. 切片\n",
    "#就和list一样操作"
   ]
  },
  {
   "cell_type": "code",
   "execution_count": 2,
   "metadata": {},
   "outputs": [
    {
     "name": "stdout",
     "output_type": "stream",
     "text": [
      "[0 1 2 3 4 5 6 7 8 9]\n",
      "[5 6 7 8 9]\n",
      "[   0    1    2    3    4    5    6    7    8 1024]\n",
      "[   5    6    7    8 1024]\n"
     ]
    }
   ],
   "source": [
    "import numpy as np\n",
    "#如果直接对np数据进行切片会直接改变原来的数据\n",
    "origin_arr = np.arange(10)\n",
    "print(origin_arr)\n",
    "arr_slice = origin_arr[5:]\n",
    "print(arr_slice)\n",
    "arr_slice[-1] = 1024  \n",
    "print(origin_arr)\n",
    "print(arr_slice)\n",
    "#这里虽然只修改了arr_slice的最后一个数据，但是原始数据origin_arr也被修改了"
   ]
  },
  {
   "cell_type": "code",
   "execution_count": 3,
   "metadata": {},
   "outputs": [
    {
     "name": "stdout",
     "output_type": "stream",
     "text": [
      "[0 1 2 3 4 5 6 7 8 9]\n",
      "[5 6 7 8 9]\n",
      "[0 1 2 3 4 5 6 7 8 9]\n",
      "[   5    6    7    8 1024]\n"
     ]
    }
   ],
   "source": [
    "#需要用到在复制的是加上一个copy \n",
    "origin_arr = np.arange(10)\n",
    "print(origin_arr)\n",
    "arr_slice = origin_arr[5:].copy() #这说明切片数据是复制了的，而不是对原来的数据进行操作\n",
    "print(arr_slice)\n",
    "arr_slice[-1] = 1024  \n",
    "print(origin_arr)\n",
    "print(arr_slice)\n"
   ]
  },
  {
   "cell_type": "code",
   "execution_count": 4,
   "metadata": {},
   "outputs": [
    {
     "name": "stdout",
     "output_type": "stream",
     "text": [
      "arr_2d:\n",
      " [[1 2 3]\n",
      " [4 5 6]\n",
      " [7 8 9]]\n",
      "选取第三行第三列:\n",
      " 9\n",
      "选取第一行: \n",
      " [4 5 6]\n",
      "选取最后一列:\n",
      " [3 6 9]\n"
     ]
    }
   ],
   "source": [
    "#2. 二维数组的索引和切片\n",
    "arr_2d = np.array([[1,2,3],[4,5,6],[7,8,9]])  #为什么这是个2d的表？因为\n",
    "print('arr_2d:\\n',arr_2d)\n",
    "print('选取第三行第三列:\\n',arr_2d[2,2])\n",
    "print('选取第一行: \\n',arr_2d[1])\n",
    "print('选取最后一列:\\n',arr_2d[:,2]) #行数一定要表示出来，列数可以不表示出来"
   ]
  },
  {
   "cell_type": "code",
   "execution_count": 5,
   "metadata": {},
   "outputs": [
    {
     "name": "stdout",
     "output_type": "stream",
     "text": [
      "arr_3d:\n",
      " [[[ 1  2  3]\n",
      "  [ 4  5  6]\n",
      "  [ 7  8  9]\n",
      "  [10 11 12]]]\n",
      "axsi 0 :\n",
      " [[ 1  2  3]\n",
      " [ 4  5  6]\n",
      " [ 7  8  9]\n",
      " [10 11 12]]\n"
     ]
    },
    {
     "ename": "IndexError",
     "evalue": "index 1 is out of bounds for axis 0 with size 1",
     "output_type": "error",
     "traceback": [
      "\u001b[0;31m---------------------------------------------------------------------------\u001b[0m",
      "\u001b[0;31mIndexError\u001b[0m                                Traceback (most recent call last)",
      "\u001b[0;32m<ipython-input-5-7c8922ac997c>\u001b[0m in \u001b[0;36m<module>\u001b[0;34m\u001b[0m\n\u001b[1;32m      4\u001b[0m \u001b[0mprint\u001b[0m\u001b[0;34m(\u001b[0m\u001b[0;34m'arr_3d:\\n'\u001b[0m\u001b[0;34m,\u001b[0m\u001b[0marr_3d\u001b[0m\u001b[0;34m)\u001b[0m\u001b[0;34m\u001b[0m\u001b[0m\n\u001b[1;32m      5\u001b[0m \u001b[0mprint\u001b[0m\u001b[0;34m(\u001b[0m\u001b[0;34m'axsi 0 :\\n'\u001b[0m\u001b[0;34m,\u001b[0m\u001b[0marr_3d\u001b[0m\u001b[0;34m[\u001b[0m\u001b[0;36m0\u001b[0m\u001b[0;34m]\u001b[0m\u001b[0;34m)\u001b[0m\u001b[0;34m\u001b[0m\u001b[0m\n\u001b[0;32m----> 6\u001b[0;31m \u001b[0mprint\u001b[0m\u001b[0;34m(\u001b[0m\u001b[0;34m'axis 0=1,aixs1=0,axis2=2:\\n'\u001b[0m\u001b[0;34m,\u001b[0m\u001b[0marr_3d\u001b[0m\u001b[0;34m[\u001b[0m\u001b[0;36m1\u001b[0m\u001b[0;34m]\u001b[0m\u001b[0;34m[\u001b[0m\u001b[0;36m0\u001b[0m\u001b[0;34m]\u001b[0m\u001b[0;34m[\u001b[0m\u001b[0;36m2\u001b[0m\u001b[0;34m]\u001b[0m\u001b[0;34m)\u001b[0m\u001b[0;34m\u001b[0m\u001b[0m\n\u001b[0m",
      "\u001b[0;31mIndexError\u001b[0m: index 1 is out of bounds for axis 0 with size 1"
     ]
    }
   ],
   "source": [
    "#3.3维数组索引和切片\n",
    "#那就需要3个索引\n",
    "arr_3d=np.array([[[1,2,3],[4,5,6],[7,8,9],[10,11,12]]])\n",
    "print('arr_3d:\\n',arr_3d)\n",
    "print('axsi 0 :\\n',arr_3d[0])\n",
    "print('axis 0=1,aixs1=0,axis2=2:\\n',arr_3d[1][0][2])"
   ]
  },
  {
   "cell_type": "code",
   "execution_count": 8,
   "metadata": {},
   "outputs": [
    {
     "name": "stdout",
     "output_type": "stream",
     "text": [
      "weekdays: \n",
      " ['Mon' 'Tue' 'Wed' 'Thur' 'Fri' 'Sat' 'Sun']\n",
      "data: \n",
      " [[-0.33785862 -1.16639143  0.48744608  0.72505332]\n",
      " [ 0.07742565 -1.12599272 -0.30208909  0.12637509]\n",
      " [-1.11756326  0.2466456  -0.96282664  0.73307465]\n",
      " [-0.53812225  0.60456081  0.54002429 -1.28253266]\n",
      " [ 1.95243869  0.47708912  0.56947595 -0.04612087]\n",
      " [-0.52221758  0.18433071 -0.95551546 -0.89675068]\n",
      " [ 0.59825884 -0.26788498  1.37133266  0.63665267]]\n",
      "weekdays bool array: \n",
      " [False False  True False False False False]\n",
      "weekdays cond -& Array:\n",
      " [False False  True False False  True False]\n",
      "Fri-data:\n",
      " [[ 1.95243869  0.47708912  0.56947595 -0.04612087]]\n",
      "wed & sat days:\n",
      " [[-1.11756326  0.2466456  -0.96282664  0.73307465]\n",
      " [-0.52221758  0.18433071 -0.95551546 -0.89675068]]\n"
     ]
    }
   ],
   "source": [
    "#4. 高级索引，这里不是很懂，为什么可以用weekdays 对data进行索引\n",
    "weekdays = np.array(['Mon','Tue','Wed','Thur','Fri','Sat','Sun'])\n",
    "data  = np.random.randn(7,4) #一组正态分布的数据\n",
    "print('weekdays: \\n',weekdays)\n",
    "print('data: \\n',data)\n",
    "#如何选择周三的数据？\n",
    "#将weekdays中Wed变为True，其余的变成False\n",
    "#bool 数组\n",
    "print('weekdays bool array: \\n',weekdays=='Wed')\n",
    "wed_and_sat_bool_arr = (weekdays == 'Wed')|(weekdays =='Sat')  #注意这里的书写方式\n",
    "print('weekdays cond -& Array:\\n',wed_and_sat_bool_arr)\n",
    "print('Fri-data:\\n',data[weekdays=='Fri'])\n",
    "print('wed & sat days:\\n',data[wed_and_sat_bool_arr])\n"
   ]
  },
  {
   "cell_type": "code",
   "execution_count": 10,
   "metadata": {},
   "outputs": [
    {
     "name": "stdout",
     "output_type": "stream",
     "text": [
      "data <0:\n",
      " [-0.29675211 -1.34820737 -0.34665514 -0.89683604 -0.58246161 -1.54748304\n",
      " -0.37871937 -0.78755504 -1.84100957 -0.54083298 -0.4881139  -2.43907778\n",
      " -0.63853571]\n",
      "data < 0(=0): \n",
      " [[0.33526394 0.73952144 0.         0.30900101]\n",
      " [0.         1.05766319 0.         0.74485981]\n",
      " [0.         0.63936158 0.         0.0985125 ]\n",
      " [1.20493246 0.         0.17790647 0.        ]\n",
      " [1.53477156 0.23939207 1.14417984 0.        ]\n",
      " [1.18308391 0.82377074 0.         0.        ]\n",
      " [0.         1.39120292 0.         0.        ]]\n",
      "Wed & Sat- data(=10):\n",
      " [[ 0.33526394  0.73952144 -0.29675211  0.30900101]\n",
      " [-1.34820737  1.05766319 -0.34665514  0.74485981]\n",
      " [10.         10.         10.         10.        ]\n",
      " [ 1.20493246 -1.54748304  0.17790647 -0.37871937]\n",
      " [ 1.53477156  0.23939207  1.14417984 -0.78755504]\n",
      " [10.         10.         10.         10.        ]\n",
      " [-0.4881139   1.39120292 -2.43907778 -0.63853571]]\n"
     ]
    }
   ],
   "source": [
    "#简单的逻辑计算\n",
    "weekdays = np.array(['Mon','Tue','Wed','Thur','Fri','Sat','Sun'])\n",
    "data  = np.random.randn(7,4) #一组正态分布的数据\n",
    "print('data <0:\\n',data[data<0]) #打印出data中小于0的数据\n",
    "#数据清洗\n",
    "data_clean = data.copy()  #这里用到copy()是因为后面要修改数据\n",
    "data_clean[data_clean < 0] =0 #把小于0的部分全部变成0\n",
    "print('data < 0(=0): \\n',data_clean)\n",
    "#结合bool索引逻辑\n",
    "data[(weekdays=='Wed')|(weekdays=='Sat')]=10 #把周三和周六的数据变成10\n",
    "print('Wed & Sat- data(=10):\\n',data)"
   ]
  },
  {
   "cell_type": "code",
   "execution_count": null,
   "metadata": {},
   "outputs": [],
   "source": []
  }
 ],
 "metadata": {
  "kernelspec": {
   "display_name": "Python 3.6",
   "language": "python",
   "name": "python36"
  },
  "language_info": {
   "codemirror_mode": {
    "name": "ipython",
    "version": 3
   },
   "file_extension": ".py",
   "mimetype": "text/x-python",
   "name": "python",
   "nbconvert_exporter": "python",
   "pygments_lexer": "ipython3",
   "version": "3.6.6"
  }
 },
 "nbformat": 4,
 "nbformat_minor": 1
}
